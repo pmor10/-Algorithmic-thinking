{
 "cells": [
  {
   "cell_type": "markdown",
   "id": "1bcfce47",
   "metadata": {},
   "source": [
    "<b>Big O Notation:</b>\n",
    "   - Is the language we use for talking about how long an algorithm takes to run.\n",
    "   - Its how we compare the efficiency of different approaches to a problem.\n",
    "   - How quickly the run time grows relative to the input as the input gets arbitrarily large."
   ]
  },
  {
   "cell_type": "markdown",
   "id": "c9d761b0",
   "metadata": {},
   "source": [
    "<b>The idea behind BigO:</b>\n",
    "- N could be acual input, or size of the input\n",
    "- Drop the constants\n",
    "- Drop the less significant terms\n",
    "- We're usually talking about \"worst case\""
   ]
  },
  {
   "cell_type": "code",
   "execution_count": 12,
   "id": "9e860436",
   "metadata": {},
   "outputs": [],
   "source": [
    "items = [1, 2, 3, 4, 5, 6, 7, 8]"
   ]
  },
  {
   "cell_type": "code",
   "execution_count": 13,
   "id": "0374f49a",
   "metadata": {},
   "outputs": [
    {
     "name": "stdout",
     "output_type": "stream",
     "text": [
      "1\n"
     ]
    }
   ],
   "source": [
    "def print_first_item(items):\n",
    "    print(items[0])\n",
    "\n",
    "\n",
    "print_first_item(items)\n",
    "\n",
    "# The function runs o(1) or constant time, the function requires 1 step"
   ]
  },
  {
   "cell_type": "code",
   "execution_count": 14,
   "id": "fc9bd7bb",
   "metadata": {},
   "outputs": [
    {
     "name": "stdout",
     "output_type": "stream",
     "text": [
      "1\n",
      "2\n",
      "3\n",
      "4\n",
      "5\n",
      "6\n",
      "7\n",
      "8\n"
     ]
    }
   ],
   "source": [
    "def print_all_items(items):\n",
    "    for item in items:\n",
    "        print(item)\n",
    "        \n",
    "print_all_items(items)\n",
    "\n",
    "# The function runs O(n) or linear time, where n is the number of items in the list"
   ]
  },
  {
   "cell_type": "code",
   "execution_count": 19,
   "id": "f0ea7ca1",
   "metadata": {},
   "outputs": [],
   "source": [
    "def print_all_possible_ordered_pairs(items):\n",
    "    for first_item in items:\n",
    "        for second_item in items:\n",
    "            print(first_item, second_item)\n",
    "            \n",
    "# print_all_possible_ordered_pairs(items)\n",
    "\n",
    "# We have nesting loops, the outter loop runs n times and the inner loop runs n times, \n",
    "# the function runs O(n2) or quadratic time"
   ]
  },
  {
   "cell_type": "code",
   "execution_count": 21,
   "id": "2432c847",
   "metadata": {},
   "outputs": [
    {
     "name": "stdout",
     "output_type": "stream",
     "text": [
      "hi\n",
      "hi\n",
      "hi\n",
      "hi\n",
      "hi\n"
     ]
    }
   ],
   "source": [
    "def say_hi_n_times(n):\n",
    "    for i in range(n):\n",
    "        print('hi')\n",
    "\n",
    "say_hi_n_times(5)\n",
    "# O(n)"
   ]
  },
  {
   "cell_type": "code",
   "execution_count": 23,
   "id": "0762a316",
   "metadata": {},
   "outputs": [
    {
     "data": {
      "text/plain": [
       "True"
      ]
     },
     "execution_count": 23,
     "metadata": {},
     "output_type": "execute_result"
    }
   ],
   "source": [
    "def contains(haystack, needle):\n",
    "    for item in haystack:\n",
    "        if item == needle:\n",
    "            return True\n",
    "    return False\n",
    "\n",
    "contains([1,2,3], 1)"
   ]
  },
  {
   "cell_type": "markdown",
   "id": "6b8ed460",
   "metadata": {},
   "source": [
    "<b>Space Complexity:</b>\n",
    "- Use less memory instead of using less time\n",
    "- Look at the total size(relative to the size of the input) of any new variables we're allocating\n",
    "- Usually when we talk about space complexity, we are talking about additional space."
   ]
  },
  {
   "cell_type": "code",
   "execution_count": null,
   "id": "aea9834a",
   "metadata": {},
   "outputs": [],
   "source": [
    "def say_hi_n_times(n):\n",
    "    for time in range(n):\n",
    "        print('hi')\n",
    "\n",
    "# This function takes:\n",
    "# O(1) space complexity (We use a fixed number of variables)\n",
    "# O(n) time complexity"
   ]
  },
  {
   "cell_type": "code",
   "execution_count": 26,
   "id": "9ab8b3b7",
   "metadata": {},
   "outputs": [
    {
     "data": {
      "text/plain": [
       "['hi', 'hi', 'hi', 'hi', 'hi']"
      ]
     },
     "execution_count": 26,
     "metadata": {},
     "output_type": "execute_result"
    }
   ],
   "source": [
    "def list_of_hi_n_times(n):\n",
    "    hi_list = []\n",
    "    for time in range(n):\n",
    "        hi_list.append('hi')\n",
    "    return hi_list\n",
    "\n",
    "list_of_hi_n_times(5)\n",
    "# This function takes:\n",
    "# O(n) space complexity (The size of the list scales with the size of the input)\n",
    "# O(n) Time complexity"
   ]
  },
  {
   "cell_type": "code",
   "execution_count": 28,
   "id": "c7eea737",
   "metadata": {},
   "outputs": [],
   "source": [
    "def get_largest_item(items):\n",
    "    largest = float('-inf')\n",
    "    for item in items:\n",
    "        if item > largest:\n",
    "            largest = item\n",
    "    return largest\n",
    "\n",
    "# space complexity O(1)"
   ]
  },
  {
   "cell_type": "code",
   "execution_count": null,
   "id": "28d9128a",
   "metadata": {},
   "outputs": [],
   "source": []
  }
 ],
 "metadata": {
  "kernelspec": {
   "display_name": "Python 3 (ipykernel)",
   "language": "python",
   "name": "python3"
  },
  "language_info": {
   "codemirror_mode": {
    "name": "ipython",
    "version": 3
   },
   "file_extension": ".py",
   "mimetype": "text/x-python",
   "name": "python",
   "nbconvert_exporter": "python",
   "pygments_lexer": "ipython3",
   "version": "3.7.4"
  }
 },
 "nbformat": 4,
 "nbformat_minor": 5
}
